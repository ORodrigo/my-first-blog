{
  "nbformat": 4,
  "nbformat_minor": 0,
  "metadata": {
    "colab": {
      "provenance": [],
      "authorship_tag": "ABX9TyOi4jzDHWVzv4dQUAdlwNf7",
      "include_colab_link": true
    },
    "kernelspec": {
      "name": "python3",
      "display_name": "Python 3"
    },
    "language_info": {
      "name": "python"
    }
  },
  "cells": [
    {
      "cell_type": "markdown",
      "metadata": {
        "id": "view-in-github",
        "colab_type": "text"
      },
      "source": [
        "<a href=\"https://colab.research.google.com/github/ORodrigo/my-first-blog/blob/master/ETL(Bronze%2C_Silver%2C_Gold).ipynb\" target=\"_parent\"><img src=\"https://colab.research.google.com/assets/colab-badge.svg\" alt=\"Open In Colab\"/></a>"
      ]
    },
    {
      "cell_type": "code",
      "source": [
        "# BIBLIOTECAS\n",
        "\n",
        "import re\n",
        "from pyspark.sql import SparkSession\n",
        "from pyspark.sql.functions import col, udf, trim, upper, when, regexp_replace, format_string, round\n",
        "from pyspark.sql.types import StringType\n"
      ],
      "metadata": {
        "id": "0zBriEKwVjQS"
      },
      "execution_count": 83,
      "outputs": []
    },
    {
      "cell_type": "code",
      "source": [
        "# Inicializar SparkSession\n",
        "spark = SparkSession.builder.appName(\"Orcamento-SP-2019\").getOrCreate()\n",
        "\n",
        "# Leitura dos arquivos CSV com charset UTF-8\n",
        "df_despesas_bronze = spark.read.option(\"header\", \"true\").option(\"charset\", \"UTF-8\").csv(\"gdvDespesasExcel.csv\")\n",
        "df_receitas_bronze = spark.read.option(\"header\", \"true\").option(\"charset\", \"UTF-8\").csv(\"gdvReceitasExcel.csv\")\n",
        "\n",
        "# Função para remover caracteres especiais dos nomes das colunas\n",
        "def clean_column_name(col_name):\n",
        "    return re.sub(r'[^A-Za-z0-9_]+', '_', col_name)  # Substitui qualquer caractere não alfanumérico por '_'\n",
        "\n",
        "# Aplicando a função de limpeza nos nomes das colunas\n",
        "df_despesas_bronze = df_despesas_bronze.toDF(*[clean_column_name(col_name) for col_name in df_despesas_bronze.columns])\n",
        "df_receitas_bronze = df_receitas_bronze.toDF(*[clean_column_name(col_name) for col_name in df_receitas_bronze.columns])\n",
        "\n",
        "# Verificar se os nomes das colunas foram atualizados corretamente\n",
        "print(\"Nomes das colunas - Despesas:\", df_despesas_bronze.columns)\n",
        "print(\"Nomes das colunas - Receitas:\", df_receitas_bronze.columns)\n"
      ],
      "metadata": {
        "colab": {
          "base_uri": "https://localhost:8080/"
        },
        "id": "v6olBYLMVnNo",
        "outputId": "e7c57424-9a0a-47b2-9d91-79e40c31f381"
      },
      "execution_count": 92,
      "outputs": [
        {
          "output_type": "stream",
          "name": "stdout",
          "text": [
            "Nomes das colunas - Despesas: ['Fonte_de_Recursos', 'Despesa', 'Liquidado', '_c3']\n",
            "Nomes das colunas - Receitas: ['Fonte_de_Recursos', 'Receita', 'Arrecadado_at_02_02_2024', '_c3']\n"
          ]
        }
      ]
    },
    {
      "cell_type": "code",
      "source": [
        "# CAMADA BRONZE\n",
        "\n",
        "# Verificar se as transformações funcionaram corretamente - Despesas\n",
        "df_despesas_bronze.show(5, truncate=False)\n",
        "\n",
        "# Verificar se as transformações funcionaram corretamente - Receitas\n",
        "df_receitas_bronze.show(5, truncate=False)\n",
        "\n",
        "#Armazenando camada bronze no banco de dados\n",
        "\n",
        "\n"
      ],
      "metadata": {
        "colab": {
          "base_uri": "https://localhost:8080/"
        },
        "id": "YU1dUq3XV4bL",
        "outputId": "49df9919-4fcd-4e9c-f125-3531f0f2f381"
      },
      "execution_count": 93,
      "outputs": [
        {
          "output_type": "stream",
          "name": "stdout",
          "text": [
            "+--------------------------------------------+-------------------------------------------------------+-----------------------+----+\n",
            "|Fonte_de_Recursos                           |Despesa                                                |Liquidado              |_c3 |\n",
            "+--------------------------------------------+-------------------------------------------------------+-----------------------+----+\n",
            "|001 - TESOURO-DOT.INICIAL E CRED.SUPLEMENTAR|31900119 - ATRASADOS-OUTROS PODERES/MINIST.PUBLICO     |          79.760.504,67|NULL|\n",
            "|001 - TESOURO-DOT.INICIAL E CRED.SUPLEMENTAR|31900124 - COMPLEMENTACAO DE APOSENTADORIA             |       1.850.834.374,26|NULL|\n",
            "|001 - TESOURO-DOT.INICIAL E CRED.SUPLEMENTAR|31900125 - COMPLEMENTACAO DE APOSENTADORIA - 13�SALARIO|         124.536.202,87|NULL|\n",
            "|001 - TESOURO-DOT.INICIAL E CRED.SUPLEMENTAR|31900325 - COMPLEMENTACAO DE PENSAO                    |          10.948.297,00|NULL|\n",
            "|001 - TESOURO-DOT.INICIAL E CRED.SUPLEMENTAR|31900326 - COMPLEMENTACAO DE PENSAO - 13� SALARIO      |             521.632,30|NULL|\n",
            "+--------------------------------------------+-------------------------------------------------------+-----------------------+----+\n",
            "only showing top 5 rows\n",
            "\n",
            "+--------------------------------------------+------------------------------------------------------+------------------------+----+\n",
            "|Fonte_de_Recursos                           |Receita                                               |Arrecadado_at_02_02_2024|_c3 |\n",
            "+--------------------------------------------+------------------------------------------------------+------------------------+----+\n",
            "|001 - TESOURO-DOT.INICIAL E CRED.SUPLEMENTAR|11130111 - IRRF - IMP.RENDA PESSOA FISICA-PRINCIPAL   |       4.267.858.335,83 |NULL|\n",
            "|001 - TESOURO-DOT.INICIAL E CRED.SUPLEMENTAR|11130311 - IRRF-IMP. RENDA RET. FTE-TRABALHO-PRINCIPAL|       4.323.772.997,93 |NULL|\n",
            "|001 - TESOURO-DOT.INICIAL E CRED.SUPLEMENTAR|11130341 - IRRF-OUTROS RENDIMENTOS-PRINCIPAL          |         123.071.158,14 |NULL|\n",
            "|001 - TESOURO-DOT.INICIAL E CRED.SUPLEMENTAR|11180121 - IPVA - IMP. PROPR. VEIC. AUTOM  - PRINCIPAL|       8.202.995.933,47 |NULL|\n",
            "|001 - TESOURO-DOT.INICIAL E CRED.SUPLEMENTAR|11180122 - IPVA - MULTAS E  JUROS                     |               6.927,39 |NULL|\n",
            "+--------------------------------------------+------------------------------------------------------+------------------------+----+\n",
            "only showing top 5 rows\n",
            "\n"
          ]
        }
      ]
    },
    {
      "cell_type": "code",
      "source": [
        "# CAMADA SILVER\n",
        "# Trantando carcteres especiais no campo de texto. Tratanto valor do campo 'Liquidado' e 'Arrecadado_at_02_02_2024' para não transformar a informação como numero cientifo, mantendo o valor real. Retirando o campo '_c3', onde não há informação, apenas valores null\n",
        "\n",
        "from pyspark.sql.functions import regexp_replace\n",
        "\n",
        "# CAMADA SILVER\n",
        "\n",
        "# Remover caracteres especiais da coluna 'Despesa' na df_despesas_bronze\n",
        "df_despesas_silver = df_despesas_bronze.withColumn(\"Despesa\", regexp_replace(\"Despesa\", r'[^A-Za-z0-9 ]', ''))\n",
        "\n",
        "# Remover caracteres especiais da coluna 'Receita' na df_receitas_bronze\n",
        "df_receitas_silver = df_receitas_bronze.withColumn(\"Receita\", regexp_replace(\"Receita\", r'[^A-Za-z0-9 ]', ''))\n",
        "\n",
        "# Excluir a coluna '_c3' em ambos os DataFrames\n",
        "df_despesas_silver = df_despesas_silver.drop(\"_c3\")\n",
        "df_receitas_silver = df_receitas_silver.drop(\"_c3\")\n",
        "\n",
        "# Remover registros com valores nulos na coluna 'Fonte_de_Recursos'\n",
        "df_despesas_silver = df_despesas_silver.filter(df_despesas_silver[\"Fonte_de_Recursos\"].isNotNull())\n",
        "df_receitas_silver = df_receitas_silver.filter(df_receitas_silver[\"Fonte_de_Recursos\"].isNotNull())\n",
        "\n",
        "# Verificar as primeiras linhas para garantir que as transformações foram aplicadas\n",
        "df_despesas_silver.show(5, truncate=False)\n",
        "df_receitas_silver.show(5, truncate=False)\n",
        "\n",
        "\n",
        "\n",
        "#Armazenando camada Silver no banco de dados\n",
        "\n",
        "\n"
      ],
      "metadata": {
        "colab": {
          "base_uri": "https://localhost:8080/"
        },
        "id": "_Ar2WnmnWjGW",
        "outputId": "9d582cca-f8f9-4d5b-f95e-fb91f887fb67"
      },
      "execution_count": 102,
      "outputs": [
        {
          "output_type": "stream",
          "name": "stdout",
          "text": [
            "+--------------------------------------------+----------------------------------------------------+-----------------------+\n",
            "|Fonte_de_Recursos                           |Despesa                                             |Liquidado              |\n",
            "+--------------------------------------------+----------------------------------------------------+-----------------------+\n",
            "|001 - TESOURO-DOT.INICIAL E CRED.SUPLEMENTAR|31900119  ATRASADOSOUTROS PODERESMINISTPUBLICO      |          79.760.504,67|\n",
            "|001 - TESOURO-DOT.INICIAL E CRED.SUPLEMENTAR|31900124  COMPLEMENTACAO DE APOSENTADORIA           |       1.850.834.374,26|\n",
            "|001 - TESOURO-DOT.INICIAL E CRED.SUPLEMENTAR|31900125  COMPLEMENTACAO DE APOSENTADORIA  13SALARIO|         124.536.202,87|\n",
            "|001 - TESOURO-DOT.INICIAL E CRED.SUPLEMENTAR|31900325  COMPLEMENTACAO DE PENSAO                  |          10.948.297,00|\n",
            "|001 - TESOURO-DOT.INICIAL E CRED.SUPLEMENTAR|31900326  COMPLEMENTACAO DE PENSAO  13 SALARIO      |             521.632,30|\n",
            "+--------------------------------------------+----------------------------------------------------+-----------------------+\n",
            "only showing top 5 rows\n",
            "\n",
            "+--------------------------------------------+------------------------------------------------+------------------------+\n",
            "|Fonte_de_Recursos                           |Receita                                         |Arrecadado_at_02_02_2024|\n",
            "+--------------------------------------------+------------------------------------------------+------------------------+\n",
            "|001 - TESOURO-DOT.INICIAL E CRED.SUPLEMENTAR|11130111  IRRF  IMPRENDA PESSOA FISICAPRINCIPAL |       4.267.858.335,83 |\n",
            "|001 - TESOURO-DOT.INICIAL E CRED.SUPLEMENTAR|11130311  IRRFIMP RENDA RET FTETRABALHOPRINCIPAL|       4.323.772.997,93 |\n",
            "|001 - TESOURO-DOT.INICIAL E CRED.SUPLEMENTAR|11130341  IRRFOUTROS RENDIMENTOSPRINCIPAL       |         123.071.158,14 |\n",
            "|001 - TESOURO-DOT.INICIAL E CRED.SUPLEMENTAR|11180121  IPVA  IMP PROPR VEIC AUTOM   PRINCIPAL|       8.202.995.933,47 |\n",
            "|001 - TESOURO-DOT.INICIAL E CRED.SUPLEMENTAR|11180122  IPVA  MULTAS E  JUROS                 |               6.927,39 |\n",
            "+--------------------------------------------+------------------------------------------------+------------------------+\n",
            "only showing top 5 rows\n",
            "\n"
          ]
        }
      ]
    },
    {
      "cell_type": "code",
      "source": [
        "# CAMADA GOLD\n",
        "\n",
        "from pyspark.sql.functions import col, regexp_replace, sum, format_number\n",
        "\n",
        "\n",
        "# Remover caracteres especiais da coluna 'Despesa' na df_despesas_bronze\n",
        "df_despesas_silver = df_despesas_bronze.withColumn(\"Despesa\", regexp_replace(\"Despesa\", r'[^A-Za-z0-9 ]', ''))\n",
        "\n",
        "# Remover caracteres especiais da coluna 'Receita' na df_receitas_bronze\n",
        "df_receitas_silver = df_receitas_bronze.withColumn(\"Receita\", regexp_replace(\"Receita\", r'[^A-Za-z0-9 ]', ''))\n",
        "\n",
        "# Excluir a coluna '_c3' em ambos os DataFrames\n",
        "df_despesas_silver = df_despesas_silver.drop(\"_c3\")\n",
        "df_receitas_silver = df_receitas_silver.drop(\"_c3\")\n",
        "\n",
        "# Tratamento do campo 'Liquidado' no df_despesas_silver\n",
        "df_despesas_silver = df_despesas_silver.withColumn(\n",
        "    \"Liquidado\",\n",
        "    regexp_replace(col(\"Liquidado\"), r'\\.', '')  # Remove pontos (milhares)\n",
        ")\n",
        "\n",
        "df_despesas_silver = df_despesas_silver.withColumn(\n",
        "    \"Liquidado\",\n",
        "    regexp_replace(col(\"Liquidado\"), r',', '.')  # Substitui vírgula por ponto\n",
        ")\n",
        "\n",
        "# Converter para tipo inteiro (sem casas decimais)\n",
        "df_despesas_silver = df_despesas_silver.withColumn(\n",
        "    \"Liquidado\", col(\"Liquidado\").cast(\"long\")  # 'long' para números inteiros\n",
        ")\n",
        "\n",
        "# Agrupar por 'Fonte_de_Recursos' e somar a coluna 'Liquidado' no df_despesas_silver\n",
        "df_despesas_gold = df_despesas_silver.groupBy(\"Fonte_de_Recursos\").agg(\n",
        "    sum(\"Liquidado\").alias(\"Total_Liquidado\")\n",
        ")\n",
        "\n",
        "# Filtrar registros com Fonte_de_Recursos não nula\n",
        "df_despesas_gold = df_despesas_gold.filter(col(\"Fonte_de_Recursos\").isNotNull())\n",
        "\n",
        "# Formatar a coluna 'Total_Liquidado' para exibição, sem notação científica e sem casas decimais\n",
        "df_despesas_gold = df_despesas_gold.withColumn(\n",
        "    \"Total_Liquidado\", format_number(col(\"Total_Liquidado\"), 0)  # Sem casas decimais\n",
        ")\n",
        "\n",
        "# Exibir os resultados do df_despesas_gold\n",
        "df_despesas_gold.show(truncate=False)\n",
        "\n",
        "\n",
        "# Tratamento do campo 'Arrecadado_at_02_02_2024' no df_receitas_silver\n",
        "df_receitas_silver = df_receitas_silver.withColumn(\n",
        "    \"Arrecadado_at_02_02_2024\",\n",
        "    regexp_replace(col(\"Arrecadado_at_02_02_2024\"), r'\\.', '')  # Remove pontos (milhares)\n",
        ")\n",
        "\n",
        "df_receitas_silver = df_receitas_silver.withColumn(\n",
        "    \"Arrecadado_at_02_02_2024\",\n",
        "    regexp_replace(col(\"Arrecadado_at_02_02_2024\"), r',', '.')  # Substitui vírgula por ponto\n",
        ")\n",
        "\n",
        "# Converter para tipo inteiro (sem casas decimais)\n",
        "df_receitas_silver = df_receitas_silver.withColumn(\n",
        "    \"Arrecadado_at_02_02_2024\", col(\"Arrecadado_at_02_02_2024\").cast(\"long\")  # 'long' para números inteiros\n",
        ")\n",
        "\n",
        "# Agrupar por 'Fonte_de_Recursos' e somar a coluna 'Arrecadado_at_02_02_2024' no df_receitas_silver\n",
        "df_receitas_gold = df_receitas_silver.groupBy(\"Fonte_de_Recursos\").agg(\n",
        "    sum(\"Arrecadado_at_02_02_2024\").alias(\"Total_Arrecadado\")\n",
        ")\n",
        "\n",
        "# Filtrar registros com Fonte_de_Recursos não nula\n",
        "df_receitas_gold = df_receitas_gold.filter(col(\"Fonte_de_Recursos\").isNotNull())\n",
        "\n",
        "# Formatar a coluna 'Total_Arrecadado' para exibição, sem notação científica e sem casas decimais\n",
        "df_receitas_gold = df_receitas_gold.withColumn(\n",
        "    \"Total_Arrecadado\", format_number(col(\"Total_Arrecadado\"), 0)  # Sem casas decimais\n",
        ")\n",
        "\n",
        "# Exibir os resultados do df_receitas_gold\n",
        "df_receitas_gold.show(truncate=False)\n",
        "\n",
        "\n",
        "# Juntar os DataFrames df_despesas_gold e df_receitas_gold e garantir que os campos sejam combinados corretamente\n",
        "df_juncao_gold = df_despesas_gold.join(\n",
        "    df_receitas_gold, on=\"Fonte_de_Recursos\", how=\"outer\"\n",
        ")\n",
        "\n",
        "# Exibir os resultados da junção final\n",
        "df_juncao_gold.show(truncate=False)\n"
      ],
      "metadata": {
        "colab": {
          "base_uri": "https://localhost:8080/"
        },
        "id": "iqNJMBfbrsqu",
        "outputId": "a5b7dea2-ef3b-45d1-c844-3d1a14495009"
      },
      "execution_count": 110,
      "outputs": [
        {
          "output_type": "stream",
          "name": "stdout",
          "text": [
            "+--------------------------------------------------+---------------+\n",
            "|Fonte_de_Recursos                                 |Total_Liquidado|\n",
            "+--------------------------------------------------+---------------+\n",
            "|042 - REC.VINC.ESTADUAIS-CRED.SUPERAVIT FINANCEIRO|524,395,845    |\n",
            "|084 - REC.PROPRIO-ADM.IND.-DOT.INIC.CR.SUPL.-INTRA|2,743,387      |\n",
            "|005 - RECURSOS VINCULADOS FEDERAIS                |8,091,074,521  |\n",
            "|085 - RECURSOS VINCULADOS FEDERAIS-INTRA          |225,804,427    |\n",
            "|006 - OUTRAS FONTES DE RECURSOS                   |615,464,238    |\n",
            "|001 - TESOURO-DOT.INICIAL E CRED.SUPLEMENTAR      |146,622,206,831|\n",
            "|007 - OP.CRED.E CONTRIB.DO EXTERIOR-DOT.INIC.CR.SU|1,513,684,003  |\n",
            "|045 - REC.VINC.TRANSF.FEDERAL/SUPERAVIT FINANC.   |326,177,974    |\n",
            "|004 - REC.PROPRIO-ADM.IND.-DOT.INIC.CR.SUPL.      |10,198,168,738 |\n",
            "|086 - OUTRAS FONTES DE RECURSOS-INTRA             |137,377,128    |\n",
            "|003 - RECURSOS VINCULADOS-FUNDO ESPECIAL DE DESPES|4,364,160,391  |\n",
            "|083 - RECURSOS VINCULADOS-FUNDO ESP. DESPESA-INTRA|46,996,073     |\n",
            "|081 - TESOURO-DOT.INICIAL E CRED.SUPLEMENTAR-INTRA|30,931,190,140 |\n",
            "|002 - RECURSOS VINCULADOS ESTADUAIS               |51,132,135,568 |\n",
            "|082 - RECURSOS VINCULADOS ESTADUAIS-INTRA         |406,170,286    |\n",
            "|043 - F.E.D - CREDITO POR SUPERAVIT FINANCEIRO    |31,139,884     |\n",
            "|041 - TESOURO - CREDITO POR SUPERAVIT FINANCEIRO  |1,417,328,389  |\n",
            "|047 - REC.OPERAC. DE CREDITO-P/SUPERAVIT FINANCEIR|892,962,241    |\n",
            "|044 - REC.PROP.ADM.IND-CRED.P/SUPERVAVIT FINANCEIR|472,069,977    |\n",
            "|087 - OP.CRED.CONTR.EXTERIOR-DOT.INIC.CR.SUP-INTRA|46,441,530     |\n",
            "+--------------------------------------------------+---------------+\n",
            "\n",
            "+--------------------------------------------------+----------------+\n",
            "|Fonte_de_Recursos                                 |Total_Arrecadado|\n",
            "+--------------------------------------------------+----------------+\n",
            "|042 - REC.VINC.ESTADUAIS-CRED.SUPERAVIT FINANCEIRO|5,354           |\n",
            "|084 - REC.PROPRIO-ADM.IND.-DOT.INIC.CR.SUPL.-INTRA|4,376,294       |\n",
            "|005 - RECURSOS VINCULADOS FEDERAIS                |8,585,540,895   |\n",
            "|085 - RECURSOS VINCULADOS FEDERAIS-INTRA          |225,804,439     |\n",
            "|006 - OUTRAS FONTES DE RECURSOS                   |1,091,691,525   |\n",
            "|001 - TESOURO-DOT.INICIAL E CRED.SUPLEMENTAR      |145,359,336,913 |\n",
            "|007 - OP.CRED.E CONTRIB.DO EXTERIOR-DOT.INIC.CR.SU|2,382,563,190   |\n",
            "|045 - REC.VINC.TRANSF.FEDERAL/SUPERAVIT FINANC.   |130             |\n",
            "|004 - REC.PROPRIO-ADM.IND.-DOT.INIC.CR.SUPL.      |10,879,120,145  |\n",
            "|086 - OUTRAS FONTES DE RECURSOS-INTRA             |137,377,128     |\n",
            "|003 - RECURSOS VINCULADOS-FUNDO ESPECIAL DE DESPES|5,443,588,909   |\n",
            "|083 - RECURSOS VINCULADOS-FUNDO ESP. DESPESA-INTRA|47,742,987      |\n",
            "|081 - TESOURO-DOT.INICIAL E CRED.SUPLEMENTAR-INTRA|30,947,501,471  |\n",
            "|002 - RECURSOS VINCULADOS ESTADUAIS               |51,838,245,135  |\n",
            "|082 - RECURSOS VINCULADOS ESTADUAIS-INTRA         |406,170,286     |\n",
            "|099 - EXTRA ORCAMENTARIA                          |0               |\n",
            "|043 - F.E.D - CREDITO POR SUPERAVIT FINANCEIRO    |0               |\n",
            "|041 - TESOURO - CREDITO POR SUPERAVIT FINANCEIRO  |0               |\n",
            "|047 - REC.OPERAC. DE CREDITO-P/SUPERAVIT FINANCEIR|47,621,266      |\n",
            "|044 - REC.PROP.ADM.IND-CRED.P/SUPERVAVIT FINANCEIR|575,861         |\n",
            "+--------------------------------------------------+----------------+\n",
            "only showing top 20 rows\n",
            "\n",
            "+--------------------------------------------------+---------------+----------------+\n",
            "|Fonte_de_Recursos                                 |Total_Liquidado|Total_Arrecadado|\n",
            "+--------------------------------------------------+---------------+----------------+\n",
            "|001 - TESOURO-DOT.INICIAL E CRED.SUPLEMENTAR      |146,622,206,831|145,359,336,913 |\n",
            "|002 - RECURSOS VINCULADOS ESTADUAIS               |51,132,135,568 |51,838,245,135  |\n",
            "|003 - RECURSOS VINCULADOS-FUNDO ESPECIAL DE DESPES|4,364,160,391  |5,443,588,909   |\n",
            "|004 - REC.PROPRIO-ADM.IND.-DOT.INIC.CR.SUPL.      |10,198,168,738 |10,879,120,145  |\n",
            "|005 - RECURSOS VINCULADOS FEDERAIS                |8,091,074,521  |8,585,540,895   |\n",
            "|006 - OUTRAS FONTES DE RECURSOS                   |615,464,238    |1,091,691,525   |\n",
            "|007 - OP.CRED.E CONTRIB.DO EXTERIOR-DOT.INIC.CR.SU|1,513,684,003  |2,382,563,190   |\n",
            "|041 - TESOURO - CREDITO POR SUPERAVIT FINANCEIRO  |1,417,328,389  |0               |\n",
            "|042 - REC.VINC.ESTADUAIS-CRED.SUPERAVIT FINANCEIRO|524,395,845    |5,354           |\n",
            "|043 - F.E.D - CREDITO POR SUPERAVIT FINANCEIRO    |31,139,884     |0               |\n",
            "|044 - REC.PROP.ADM.IND-CRED.P/SUPERVAVIT FINANCEIR|472,069,977    |575,861         |\n",
            "|045 - REC.VINC.TRANSF.FEDERAL/SUPERAVIT FINANC.   |326,177,974    |130             |\n",
            "|047 - REC.OPERAC. DE CREDITO-P/SUPERAVIT FINANCEIR|892,962,241    |47,621,266      |\n",
            "|081 - TESOURO-DOT.INICIAL E CRED.SUPLEMENTAR-INTRA|30,931,190,140 |30,947,501,471  |\n",
            "|082 - RECURSOS VINCULADOS ESTADUAIS-INTRA         |406,170,286    |406,170,286     |\n",
            "|083 - RECURSOS VINCULADOS-FUNDO ESP. DESPESA-INTRA|46,996,073     |47,742,987      |\n",
            "|084 - REC.PROPRIO-ADM.IND.-DOT.INIC.CR.SUPL.-INTRA|2,743,387      |4,376,294       |\n",
            "|085 - RECURSOS VINCULADOS FEDERAIS-INTRA          |225,804,427    |225,804,439     |\n",
            "|086 - OUTRAS FONTES DE RECURSOS-INTRA             |137,377,128    |137,377,128     |\n",
            "|087 - OP.CRED.CONTR.EXTERIOR-DOT.INIC.CR.SUP-INTRA|46,441,530     |46,441,531      |\n",
            "+--------------------------------------------------+---------------+----------------+\n",
            "only showing top 20 rows\n",
            "\n"
          ]
        }
      ]
    },
    {
      "cell_type": "code",
      "source": [
        "# CONEXAO COM O POSTGRE NO DOCKER\n",
        "\n",
        "spark = SparkSession.builder \\\n",
        "    .appName(\"PostgreSQL Integration\") \\\n",
        "    .config(\"spark.jars\", \"file:/content/postgresql-42.7.4.jar\") \\\n",
        "    .getOrCreate()\n",
        "\n",
        "# Definindo as configurações de conexão\n",
        "url = \"jdbc:postgresql://172.19.0.2:5432/postgres\"\n",
        "properties = {\n",
        "    \"user\": \"airflow\",\n",
        "    \"password\": \"airflow\",\n",
        "    \"driver\": \"org.postgresql.Driver\"\n",
        "}\n",
        "\n",
        "# Inserindo os dados no PostgreSQL\n",
        "df_juncao_gold.write.jdbc(url=url, table=\"orcamento\", mode=\"append\", properties=properties)\n",
        "\n"
      ],
      "metadata": {
        "id": "pmbH868tul5l"
      },
      "execution_count": 131,
      "outputs": []
    }
  ]
}